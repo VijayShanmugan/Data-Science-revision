{
  "nbformat": 4,
  "nbformat_minor": 0,
  "metadata": {
    "colab": {
      "name": "CLASS2-PIE CHART WORKOUT.ipynb",
      "provenance": [],
      "collapsed_sections": [],
      "authorship_tag": "ABX9TyPRGgdZMFGBIRFlmzI2gPGV",
      "include_colab_link": true
    },
    "kernelspec": {
      "name": "python3",
      "display_name": "Python 3"
    },
    "language_info": {
      "name": "python"
    }
  },
  "cells": [
    {
      "cell_type": "markdown",
      "metadata": {
        "id": "view-in-github",
        "colab_type": "text"
      },
      "source": [
        "<a href=\"https://colab.research.google.com/github/VijayShanmugan/Data-Science-revision/blob/main/CLASS2_PIE_CHART_WORKOUT.ipynb\" target=\"_parent\"><img src=\"https://colab.research.google.com/assets/colab-badge.svg\" alt=\"Open In Colab\"/></a>"
      ]
    },
    {
      "cell_type": "markdown",
      "source": [
        "**CLASS 2 - PIE CHART WORKOUT**"
      ],
      "metadata": {
        "id": "Y919PjlKmgFp"
      }
    },
    {
      "cell_type": "code",
      "execution_count": 29,
      "metadata": {
        "colab": {
          "base_uri": "https://localhost:8080/",
          "height": 206
        },
        "id": "XxSfB-IRmfc5",
        "outputId": "1221f566-d8bb-461f-c360-a03de7515d7b"
      },
      "outputs": [
        {
          "output_type": "execute_result",
          "data": {
            "text/html": [
              "<div>\n",
              "<style scoped>\n",
              "    .dataframe tbody tr th:only-of-type {\n",
              "        vertical-align: middle;\n",
              "    }\n",
              "\n",
              "    .dataframe tbody tr th {\n",
              "        vertical-align: top;\n",
              "    }\n",
              "\n",
              "    .dataframe thead th {\n",
              "        text-align: right;\n",
              "    }\n",
              "</style>\n",
              "<table border=\"1\" class=\"dataframe\">\n",
              "  <thead>\n",
              "    <tr style=\"text-align: right;\">\n",
              "      <th></th>\n",
              "      <th>sno</th>\n",
              "      <th>tamil</th>\n",
              "      <th>english</th>\n",
              "      <th>maths</th>\n",
              "      <th>science</th>\n",
              "      <th>social</th>\n",
              "      <th>total</th>\n",
              "      <th>average</th>\n",
              "    </tr>\n",
              "  </thead>\n",
              "  <tbody>\n",
              "    <tr>\n",
              "      <th>0</th>\n",
              "      <td>1</td>\n",
              "      <td>89</td>\n",
              "      <td>87</td>\n",
              "      <td>96</td>\n",
              "      <td>91</td>\n",
              "      <td>94</td>\n",
              "      <td>461</td>\n",
              "      <td>92.2</td>\n",
              "    </tr>\n",
              "    <tr>\n",
              "      <th>1</th>\n",
              "      <td>2</td>\n",
              "      <td>65</td>\n",
              "      <td>98</td>\n",
              "      <td>78</td>\n",
              "      <td>82</td>\n",
              "      <td>87</td>\n",
              "      <td>415</td>\n",
              "      <td>83.0</td>\n",
              "    </tr>\n",
              "    <tr>\n",
              "      <th>2</th>\n",
              "      <td>3</td>\n",
              "      <td>89</td>\n",
              "      <td>65</td>\n",
              "      <td>75</td>\n",
              "      <td>70</td>\n",
              "      <td>77</td>\n",
              "      <td>382</td>\n",
              "      <td>76.4</td>\n",
              "    </tr>\n",
              "    <tr>\n",
              "      <th>3</th>\n",
              "      <td>4</td>\n",
              "      <td>45</td>\n",
              "      <td>45</td>\n",
              "      <td>50</td>\n",
              "      <td>51</td>\n",
              "      <td>55</td>\n",
              "      <td>246</td>\n",
              "      <td>49.2</td>\n",
              "    </tr>\n",
              "    <tr>\n",
              "      <th>4</th>\n",
              "      <td>5</td>\n",
              "      <td>85</td>\n",
              "      <td>65</td>\n",
              "      <td>65</td>\n",
              "      <td>67</td>\n",
              "      <td>66</td>\n",
              "      <td>348</td>\n",
              "      <td>69.6</td>\n",
              "    </tr>\n",
              "  </tbody>\n",
              "</table>\n",
              "</div>"
            ],
            "text/plain": [
              "   sno  tamil  english  maths  science  social  total  average\n",
              "0    1     89       87     96       91      94    461     92.2\n",
              "1    2     65       98     78       82      87    415     83.0\n",
              "2    3     89       65     75       70      77    382     76.4\n",
              "3    4     45       45     50       51      55    246     49.2\n",
              "4    5     85       65     65       67      66    348     69.6"
            ]
          },
          "metadata": {},
          "execution_count": 29
        }
      ],
      "source": [
        "#importing dataset\n",
        "import seaborn as sns\n",
        "import pandas as pd\n",
        "import matplotlib.pyplot as plt\n",
        "import numpy as np\n",
        "df = pd.read_csv('https://raw.githubusercontent.com/VijayShanmugan/Datasets/main/students_marks.csv')\n",
        "df.head()"
      ]
    },
    {
      "cell_type": "code",
      "source": [
        "#allocating subject values\n",
        "a=df['tamil']\n",
        "b=df['english']\n",
        "c=df['maths']\n",
        "d=df['science']\n",
        "e=df['social']\n",
        "f=df['total']"
      ],
      "metadata": {
        "id": "2DfnGkm_n8BO"
      },
      "execution_count": 30,
      "outputs": []
    },
    {
      "cell_type": "code",
      "source": [
        "#adding marks of individual subject\n",
        "a1=np.sum(a)\n",
        "b1=np.sum(b)\n",
        "c1=np.sum(c)\n",
        "d1=np.sum(d)\n",
        "e1=np.sum(e)\n",
        "f1=np.sum(f)"
      ],
      "metadata": {
        "id": "eeNIo54nsNfd"
      },
      "execution_count": 31,
      "outputs": []
    },
    {
      "cell_type": "code",
      "source": [
        "#rounding off to two decimal places\n",
        "ha=round(a1/f1,2)\n",
        "hb=round(b1/f1,2)\n",
        "hc=round(c1/f1,2)\n",
        "hd=round(d1/f1,2)\n",
        "he=round(e1/f1,2)"
      ],
      "metadata": {
        "id": "_elH9FNxsOPI"
      },
      "execution_count": 47,
      "outputs": []
    },
    {
      "cell_type": "code",
      "source": [
        "#making values to be understandable in percentage format\n",
        "ha=ha*100\n",
        "hb=hb*100\n",
        "hc=hc*100\n",
        "hd=hd*100\n",
        "he=he*100"
      ],
      "metadata": {
        "id": "Md4vfnNJsnF1"
      },
      "execution_count": 51,
      "outputs": []
    },
    {
      "cell_type": "code",
      "source": [
        "#allocating each subject average values to variable x\n",
        "x=[ha,hb,hc,hd,he]\n",
        "x"
      ],
      "metadata": {
        "colab": {
          "base_uri": "https://localhost:8080/"
        },
        "id": "cndQZI_rt8yZ",
        "outputId": "b0604887-cf89-44d7-9fca-cc04f9532e58"
      },
      "execution_count": 52,
      "outputs": [
        {
          "output_type": "execute_result",
          "data": {
            "text/plain": [
              "[20.0, 19.0, 20.0, 20.0, 21.0]"
            ]
          },
          "metadata": {},
          "execution_count": 52
        }
      ]
    },
    {
      "cell_type": "code",
      "source": [
        "#constructing pie chart\n",
        "label=['Tamil','English','Maths','Science','Social Science']\n",
        "plt.pie(x, labels = label, autopct = '%1.1f%%',\n",
        "\t\tstartangle = 90,\n",
        "\t\twedgeprops = {\"edgecolor\" : \"black\",\n",
        "\t\t\t\t\t'linewidth': 2,\n",
        "\t\t\t\t\t'antialiased': True})\n",
        "plt.axis('equal')\n",
        "plt.show()"
      ],
      "metadata": {
        "colab": {
          "base_uri": "https://localhost:8080/",
          "height": 252
        },
        "id": "Ol8ZfR0vuizK",
        "outputId": "f0343694-dfbc-49ee-e70f-9ed4db923d59"
      },
      "execution_count": 54,
      "outputs": [
        {
          "output_type": "display_data",
          "data": {
            "image/png": "[encoded data removed]",
            "text/plain": [
              "<Figure size 432x288 with 1 Axes>"
            ]
          },
          "metadata": {}
        }
      ]
    },
    {
      "cell_type": "code",
      "source": [
        "#another pie chart\n",
        "label=['Tamil','English','Maths','Science','Social Science']\n",
        "color=['tab:blue','tab:cyan','tab:gray','tab:orange','tab:red']\n",
        "explode=[0,0.1,0,0,0.2]\n",
        "fig,ax=plt.subplots()\n",
        "ax.pie(x,labels=label,\n",
        "       colors=color,\n",
        "       autopct='%.00f%%',\n",
        "       explode=explode,\n",
        "       shadow=True\n",
        "       )\n",
        "ax.set_title('Average of 5 subjects')\n",
        "plt.legend(title=\"Name of the subject\",loc=4)\n",
        "plt.show()"
      ],
      "metadata": {
        "colab": {
          "base_uri": "https://localhost:8080/",
          "height": 264
        },
        "id": "bNjbwypYvpqH",
        "outputId": "4ef860b5-b502-4aab-d50d-341e36d6323f"
      },
      "execution_count": 61,
      "outputs": [
        {
          "output_type": "display_data",
          "data": {
            "image/png": "[encoded data removed]",
            "text/plain": [
              "<Figure size 432x288 with 1 Axes>"
            ]
          },
          "metadata": {}
        }
      ]
    }
  ]
}